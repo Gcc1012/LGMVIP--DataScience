{
  "nbformat": 4,
  "nbformat_minor": 0,
  "metadata": {
    "colab": {
      "provenance": [],
      "authorship_tag": "ABX9TyP2+QqkYUCZSjkHyOTHcykm",
      "include_colab_link": true
    },
    "kernelspec": {
      "name": "python3",
      "display_name": "Python 3"
    },
    "language_info": {
      "name": "python"
    }
  },
  "cells": [
    {
      "cell_type": "markdown",
      "metadata": {
        "id": "view-in-github",
        "colab_type": "text"
      },
      "source": [
        "<a href=\"https://colab.research.google.com/github/Gcc1012/LetsGrowMoreInternship/blob/main/Image_to_Pencil_Sketch_using_Python.ipynb\" target=\"_parent\"><img src=\"https://colab.research.google.com/assets/colab-badge.svg\" alt=\"Open In Colab\"/></a>"
      ]
    },
    {
      "cell_type": "markdown",
      "source": [
        "##Image to Pencil Sketch using Python"
      ],
      "metadata": {
        "id": "wfQs7efVHpKW"
      }
    },
    {
      "cell_type": "code",
      "execution_count": 1,
      "metadata": {
        "id": "0LjZ27EbHigz"
      },
      "outputs": [],
      "source": [
        "import cv2"
      ]
    },
    {
      "cell_type": "markdown",
      "source": [
        "####Reading an image"
      ],
      "metadata": {
        "id": "zd0q_We0OzZy"
      }
    },
    {
      "cell_type": "code",
      "source": [
        "image = cv2.imread('/content/image.png')"
      ],
      "metadata": {
        "id": "9Wgf4pYrHy-e"
      },
      "execution_count": 2,
      "outputs": []
    },
    {
      "cell_type": "code",
      "source": [
        "#fetching the dimensions    \n",
        "#Syntax --> shape(height,width,no_of_chanels)\n",
        "height = image.shape[0]  \n",
        "width = image.shape[1]\n",
        "no_of_chanels = image.shape[2]\n",
        "\n",
        "#displaying the dimensions\n",
        "print(str(height) + \"x\" + str(height))\n",
        "print(no_of_chanels)"
      ],
      "metadata": {
        "colab": {
          "base_uri": "https://localhost:8080/"
        },
        "id": "f_9-KEp4PqG0",
        "outputId": "5d496c5d-f0af-4950-9d07-191d7f5e2ba0"
      },
      "execution_count": 14,
      "outputs": [
        {
          "output_type": "stream",
          "name": "stdout",
          "text": [
            "210x210\n",
            "3\n"
          ]
        }
      ]
    },
    {
      "cell_type": "markdown",
      "source": [
        "####Converting a color image (in the BGR color space) to a grayscale image."
      ],
      "metadata": {
        "id": "IoSGeiyAMgHg"
      }
    },
    {
      "cell_type": "code",
      "source": [
        "grey_img = cv2.cvtColor(image, cv2.COLOR_BGR2GRAY)"
      ],
      "metadata": {
        "id": "qqgpTjeEPBpB"
      },
      "execution_count": 4,
      "outputs": []
    },
    {
      "cell_type": "markdown",
      "source": [
        "####Performing a bitwise NOT operation on a grayscale image, which effectively inverts the image.\n",
        "The bitwise NOT operation inverts each pixel of the image. Specifically, it takes the binary representation of each pixel value and performs a logical NOT operation on it, which flips all the bits. This results in a new pixel value that is the inverted color of the original pixel.\n",
        "\n",
        "####So, invert will be a grayscale image that is the inverted version of the original grey_img. The dark regions will become light, and the light regions will become dark."
      ],
      "metadata": {
        "id": "cjwE50uDM7u4"
      }
    },
    {
      "cell_type": "code",
      "source": [
        "invert = cv2.bitwise_not(grey_img)"
      ],
      "metadata": {
        "id": "jGGPx-cZI185"
      },
      "execution_count": 5,
      "outputs": []
    },
    {
      "cell_type": "markdown",
      "source": [
        "####blur will be a blurred version of the inverted grayscale image, where the amount of blurring will be determined by the size of the Gaussian kernel.\n",
        "\n",
        "#####GaussianBlur -->The Gaussian blur operation works by convolving the image with a Gaussian kernel, which is a 2D matrix of values that represent the shape of the blur. The larger the kernel size, the stronger the blur applied to the image. The Gaussian distribution determines the weights assigned to each pixel in the kernel, with the center pixel having the highest weight.\n",
        "\n",
        "####(21,21) -->Guassian kernel size -->blur will be quite strong\n",
        "#### 0 -->standard deviation of the Gaussian distribution"
      ],
      "metadata": {
        "id": "5k-KTqe8Nh9L"
      }
    },
    {
      "cell_type": "code",
      "source": [
        "blur = cv2.GaussianBlur(invert, (21,21),0)"
      ],
      "metadata": {
        "id": "vn59laaCI9fn"
      },
      "execution_count": 6,
      "outputs": []
    },
    {
      "cell_type": "markdown",
      "source": [
        "####Inverting the blurred image."
      ],
      "metadata": {
        "id": "k1T-jjGOOWGg"
      }
    },
    {
      "cell_type": "code",
      "source": [
        "invertedblur = cv2.bitwise_not(blur)"
      ],
      "metadata": {
        "id": "Ox1JopTlJF4j"
      },
      "execution_count": 7,
      "outputs": []
    },
    {
      "cell_type": "markdown",
      "source": [
        "#### Performing a division operation between a grayscale image and an inverted blurred image to create a sketch-like effect.\n",
        "\n",
        "#####The division operation is performed on a pixel-by-pixel basis. For each pixel in the grey_img and invertedblur images, the corresponding values are divided. This creates a new image where the brighter areas of the original grayscale image are preserved, while the darker areas are replaced with the values from the inverted blurred image. The scaling factor is used to adjust the contrast of the resulting image."
      ],
      "metadata": {
        "id": "8dmVNAkqQzOB"
      }
    },
    {
      "cell_type": "code",
      "source": [
        "sketch = cv2.divide(grey_img, invertedblur, scale =256.0)"
      ],
      "metadata": {
        "id": "WAkmw8CIJL9y"
      },
      "execution_count": 9,
      "outputs": []
    },
    {
      "cell_type": "markdown",
      "source": [
        "####Saving an image as a file "
      ],
      "metadata": {
        "id": "G2f23BdxQ6-Z"
      }
    },
    {
      "cell_type": "code",
      "source": [
        "cv2.imwrite(\"sketch.png\", sketch)"
      ],
      "metadata": {
        "colab": {
          "base_uri": "https://localhost:8080/"
        },
        "id": "uw-NfXiXJUkj",
        "outputId": "11d4f48f-09ab-4280-cc28-34f8c62e076e"
      },
      "execution_count": 11,
      "outputs": [
        {
          "output_type": "execute_result",
          "data": {
            "text/plain": [
              "True"
            ]
          },
          "metadata": {},
          "execution_count": 11
        }
      ]
    },
    {
      "cell_type": "markdown",
      "source": [
        "## Coloured Image\n",
        "![image.png](data:image/png;base64,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)\n",
        "\n",
        "\n",
        "##Pencil Sketch\n",
        "![sketch.png](data:image/png;base64,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)"
      ],
      "metadata": {
        "id": "fsQZLkJjLtnD"
      }
    }
  ]
}