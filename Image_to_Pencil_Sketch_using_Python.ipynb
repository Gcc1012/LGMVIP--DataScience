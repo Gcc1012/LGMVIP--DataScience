{
  "nbformat": 4,
  "nbformat_minor": 0,
  "metadata": {
    "colab": {
      "provenance": [],
      "authorship_tag": "ABX9TyNpaeHEIjGzNPK4d1CrYi8V",
      "include_colab_link": true
    },
    "kernelspec": {
      "name": "python3",
      "display_name": "Python 3"
    },
    "language_info": {
      "name": "python"
    }
  },
  "cells": [
    {
      "cell_type": "markdown",
      "metadata": {
        "id": "view-in-github",
        "colab_type": "text"
      },
      "source": [
        "<a href=\"https://colab.research.google.com/github/Gcc1012/LetsGrowMoreInternship/blob/main/Image_to_Pencil_Sketch_using_Python.ipynb\" target=\"_parent\"><img src=\"https://colab.research.google.com/assets/colab-badge.svg\" alt=\"Open In Colab\"/></a>"
      ]
    },
    {
      "cell_type": "markdown",
      "source": [
        "##Image to Pencil Sketch using Python"
      ],
      "metadata": {
        "id": "wfQs7efVHpKW"
      }
    },
    {
      "cell_type": "code",
      "execution_count": 1,
      "metadata": {
        "id": "0LjZ27EbHigz"
      },
      "outputs": [],
      "source": [
        "import cv2"
      ]
    },
    {
      "cell_type": "markdown",
      "source": [
        "####Reading an image"
      ],
      "metadata": {
        "id": "zd0q_We0OzZy"
      }
    },
    {
      "cell_type": "code",
      "source": [
        "image = cv2.imread('/content/image.png')"
      ],
      "metadata": {
        "id": "9Wgf4pYrHy-e"
      },
      "execution_count": 2,
      "outputs": []
    },
    {
      "cell_type": "markdown",
      "source": [
        "###"
      ],
      "metadata": {
        "id": "Do36oS64K86h"
      }
    },
    {
      "cell_type": "code",
      "source": [
        "grey_img = cv2.cvtColor(image, cv2.COLOR_BGR2GRAY)"
      ],
      "metadata": {
        "id": "qqgpTjeEPBpB"
      },
      "execution_count": 4,
      "outputs": []
    },
    {
      "cell_type": "code",
      "source": [
        "invert = cv2.bitwise_not(grey_img)"
      ],
      "metadata": {
        "id": "jGGPx-cZI185"
      },
      "execution_count": 5,
      "outputs": []
    },
    {
      "cell_type": "code",
      "source": [
        "blur = cv2.GaussianBlur(invert, (21,21),0)"
      ],
      "metadata": {
        "id": "vn59laaCI9fn"
      },
      "execution_count": 6,
      "outputs": []
    },
    {
      "cell_type": "code",
      "source": [
        "invertedblur = cv2.bitwise_not(blur)"
      ],
      "metadata": {
        "id": "Ox1JopTlJF4j"
      },
      "execution_count": 7,
      "outputs": []
    },
    {
      "cell_type": "code",
      "source": [
        "sketch = cv2.divide(grey_img, invertedblur, scale =256.0)"
      ],
      "metadata": {
        "id": "WAkmw8CIJL9y"
      },
      "execution_count": 9,
      "outputs": []
    },
    {
      "cell_type": "code",
      "source": [
        "cv2.imwrite(\"sketch.png\", sketch)"
      ],
      "metadata": {
        "colab": {
          "base_uri": "https://localhost:8080/"
        },
        "id": "uw-NfXiXJUkj",
        "outputId": "11d4f48f-09ab-4280-cc28-34f8c62e076e"
      },
      "execution_count": 11,
      "outputs": [
        {
          "output_type": "execute_result",
          "data": {
            "text/plain": [
              "True"
            ]
          },
          "metadata": {},
          "execution_count": 11
        }
      ]
    }
  ]
}